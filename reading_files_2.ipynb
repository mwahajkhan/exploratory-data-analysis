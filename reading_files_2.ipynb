{
  "nbformat": 4,
  "nbformat_minor": 0,
  "metadata": {
    "colab": {
      "provenance": [],
      "authorship_tag": "ABX9TyNako6MF2OfJBXoJJ3DOrQ9",
      "include_colab_link": true
    },
    "kernelspec": {
      "name": "python3",
      "display_name": "Python 3"
    },
    "language_info": {
      "name": "python"
    }
  },
  "cells": [
    {
      "cell_type": "markdown",
      "metadata": {
        "id": "view-in-github",
        "colab_type": "text"
      },
      "source": [
        "<a href=\"https://colab.research.google.com/github/mwahajkhan/exploratory-data-analysis/blob/main/reading_files_2.ipynb\" target=\"_parent\"><img src=\"https://colab.research.google.com/assets/colab-badge.svg\" alt=\"Open In Colab\"/></a>"
      ]
    },
    {
      "cell_type": "code",
      "execution_count": 1,
      "metadata": {
        "id": "RT9Js-2hlMb4"
      },
      "outputs": [],
      "source": [
        "# Imports\n",
        "import sqlite3 as sq3\n",
        "import pandas.io.sql as pds\n",
        "import pandas as pd"
      ]
    },
    {
      "cell_type": "code",
      "source": [
        "# Download the database\n",
        "!wget -P data https://cf-courses-data.s3.us.cloud-object-storage.appdomain.cloud/IBM-ML0232EN-SkillsNetwork/asset/baseball.db"
      ],
      "metadata": {
        "colab": {
          "base_uri": "https://localhost:8080/"
        },
        "id": "ZEes9f3ilbrW",
        "outputId": "080d4b6d-0405-4521-9388-7df10d7a0643"
      },
      "execution_count": 2,
      "outputs": [
        {
          "output_type": "stream",
          "name": "stdout",
          "text": [
            "--2024-05-18 21:22:40--  https://cf-courses-data.s3.us.cloud-object-storage.appdomain.cloud/IBM-ML0232EN-SkillsNetwork/asset/baseball.db\n",
            "Resolving cf-courses-data.s3.us.cloud-object-storage.appdomain.cloud (cf-courses-data.s3.us.cloud-object-storage.appdomain.cloud)... 169.63.118.104\n",
            "Connecting to cf-courses-data.s3.us.cloud-object-storage.appdomain.cloud (cf-courses-data.s3.us.cloud-object-storage.appdomain.cloud)|169.63.118.104|:443... connected.\n",
            "HTTP request sent, awaiting response... 200 OK\n",
            "Length: 7626752 (7.3M) [binary/octet-stream]\n",
            "Saving to: ‘data/baseball.db’\n",
            "\n",
            "baseball.db         100%[===================>]   7.27M  1.26MB/s    in 9.3s    \n",
            "\n",
            "2024-05-18 21:22:50 (804 KB/s) - ‘data/baseball.db’ saved [7626752/7626752]\n",
            "\n"
          ]
        }
      ]
    },
    {
      "cell_type": "code",
      "source": [
        "### BEGIN SOLUTION\n",
        "# Create a variable, `path`, containing the path to the `baseball.db` contained in `resources/`\n",
        "path = 'data/baseball.db'\n",
        "\n",
        "# Create a connection, `con`, that is connected to database at `path`\n",
        "con = sq3.Connection(path)\n",
        "\n",
        "# Create a variable, `query`, containing a SQL query which reads in all data from the `` table\n",
        "\n",
        "query = \"\"\"\n",
        "SELECT *\n",
        "    FROM allstarfull\n",
        "    ;\n",
        "\"\"\"\n",
        "\n",
        "allstar_observations = pd.read_sql(query, con)\n",
        "\n",
        "# print(allstar_observations)\n",
        "\n",
        "# Create a variable, tables, which reads in all data from the table sqlite_master\n",
        "all_tables = pd.read_sql('SELECT * FROM sqlite_master', con)\n",
        "print(all_tables)\n",
        "\n",
        "# Pretend that you were interesting in creating a new baseball hall of fame. Join and analyze the tables to evaluate the top 3 all time best baseball players\n",
        "best_query = \"\"\"\n",
        "SELECT playerID, sum(GP) AS num_games_played, AVG(startingPos) AS avg_starting_position\n",
        "    FROM allstarfull\n",
        "    GROUP BY playerID\n",
        "    ORDER BY num_games_played DESC, avg_starting_position ASC\n",
        "    LIMIT 3\n",
        "\"\"\"\n",
        "best = pd.read_sql(best_query, con)\n",
        "print(best.head())\n",
        "### END SOLUTION"
      ],
      "metadata": {
        "id": "TlySK4zKleup"
      },
      "execution_count": null,
      "outputs": []
    }
  ]
}